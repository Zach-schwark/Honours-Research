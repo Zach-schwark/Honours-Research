{
 "cells": [
  {
   "cell_type": "code",
   "execution_count": 4,
   "metadata": {},
   "outputs": [
    {
     "name": "stdout",
     "output_type": "stream",
     "text": [
      "Expected log-likelihood: -0.8966630423066358\n"
     ]
    }
   ],
   "source": [
    "import numpy as np\n",
    "\n",
    "def expected_log_likelihood_discrete(samples, P_tilde_log_prob):\n",
    "    \"\"\"\n",
    "    Computes the expected log-likelihood for discrete distributions\n",
    "    \n",
    "    Parameters:\n",
    "    - samples: an array of samples drawn from the distribution P*\n",
    "    - P_tilde_log_prob: a function that computes the log probability of a sample under P̃\n",
    "    \n",
    "    Returns:\n",
    "    - The expected log-likelihood\n",
    "    \"\"\"\n",
    "    log_likelihoods = np.array([P_tilde_log_prob(sample) for sample in samples])\n",
    "    return np.mean(log_likelihoods)\n",
    "\n",
    "# Example usage:\n",
    "\n",
    "# Step 1: Define P̃'s log probability function\n",
    "def P_tilde_log_prob(x):\n",
    "    # P̃ is a discrete distribution over the values {1, 2, 3}\n",
    "    probs = {1: 0.2, 2: 0.5, 3: 0.3}\n",
    "    return np.log(probs.get(x, 1e-10))  # log(0) is undefined, so we use a small value for missing keys\n",
    "\n",
    "# Step 2: Generate samples from P*\n",
    "# P* is a discrete distribution over the values {1, 2, 3}\n",
    "P_star_probs = [0.1, 0.7, 0.2]\n",
    "P_star_values = [1, 2, 3]\n",
    "samples = np.random.choice(P_star_values, size=1000, p=P_star_probs)\n",
    "\n",
    "# Step 3: Compute the expected log-likelihood\n",
    "expected_ll = expected_log_likelihood_discrete(samples, P_tilde_log_prob)\n",
    "print(f\"Expected log-likelihood: {expected_ll}\")\n"
   ]
  }
 ],
 "metadata": {
  "kernelspec": {
   "display_name": "Python 3",
   "language": "python",
   "name": "python3"
  },
  "language_info": {
   "codemirror_mode": {
    "name": "ipython",
    "version": 3
   },
   "file_extension": ".py",
   "mimetype": "text/x-python",
   "name": "python",
   "nbconvert_exporter": "python",
   "pygments_lexer": "ipython3",
   "version": "3.12.0"
  }
 },
 "nbformat": 4,
 "nbformat_minor": 2
}
