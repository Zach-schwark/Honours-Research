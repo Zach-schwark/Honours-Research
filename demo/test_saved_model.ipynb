{
 "cells": [
  {
   "cell_type": "code",
   "execution_count": 1,
   "metadata": {},
   "outputs": [
    {
     "name": "stderr",
     "output_type": "stream",
     "text": [
      "c:\\Users\\zachs\\Documents\\CSHons\\ResearchReport\\Research_Code\\Honours-Research\\HonoursResearch\\Lib\\site-packages\\tqdm\\auto.py:21: TqdmWarning: IProgress not found. Please update jupyter and ipywidgets. See https://ipywidgets.readthedocs.io/en/stable/user_install.html\n",
      "  from .autonotebook import tqdm as notebook_tqdm\n"
     ]
    }
   ],
   "source": [
    "import sys\n",
    "import pandas as pd\n",
    "sys.path.insert(0,\"../research\")\n",
    "from pgmpy.readwrite import XMLBIFReader\n",
    "from Models import BICBayesianNetwork\n",
    "from data_preprocessing.DataPreprocessing import DataPreprocessing"
   ]
  },
  {
   "cell_type": "code",
   "execution_count": 2,
   "metadata": {},
   "outputs": [
    {
     "name": "stdout",
     "output_type": "stream",
     "text": [
      "{'acc_open_past_24mths': ['0_0', '1_0', '2_0', '3_0'], 'num_tl_op_past_12m': ['0_0', '1_0', '2_0', '3_0'], 'open_acc': ['0_0', '1_0', '2_0', '3_0'], 'all_util': ['0_0', '2_0', '1_0', '3_0'], 'revol_util': ['1_0', '0_0', '2_0', '3_0', 'N_A'], 'total_bal_il': ['0_0', '1_0', '2_0', '3_0'], 'annual_inc': ['0_0', '1_0', '2_0', '3_0'], 'loan_amnt': ['_961_0_10750_0_', '_20500_0_30250_0_', '_10750_0_20500_0_', '_30250_0_40000_0_'], 'tot_cur_bal': ['1_0', '2_0', '0_0', '3_0'], 'application_type': ['Individual', 'Joint_App'], 'issue_d': ['2015', '2018', '2017', '2016'], 'term': ['_36_months', '_60_months'], 'avg_cur_bal': ['1_0', '0_0', '2_0', '3_0'], 'total_bal_ex_mort': ['0_0', '1_0', '2_0', '3_0'], 'bc_open_to_buy': ['0_0', '2_0', '1_0', '3_0'], 'total_bc_limit': ['0_0', '2_0', '1_0', '3_0'], 'bc_util': ['0_0', '1_0', 'N_A', '2_0', '3_0'], 'percent_bc_gt_75': ['0_0', '2_0', '3_0', '1_0', 'N_A'], 'debt_settlement_flag': ['N', 'Y'], 'loan_status': ['Fully_Paid', 'Charged_Off'], 'disbursement_method': ['Cash', 'DirectPay'], 'dti': ['0_0', '3_0', 'N_A', '2_0', '1_0'], 'earliest_cr_line': ['_1994_10_01_18_00_00_2015_01_01_00_00_00_', '_1974_07_02_12_00_00_1994_10_01_18_00_00_', '_1954_04_02_06_00_00_1974_07_02_12_00_00_', '_1933_12_02_09_57_36_1954_04_02_06_00_00_'], 'mo_sin_old_rev_tl_op': ['0_0', '1_0', '3_0', '2_0'], 'emp_length': ['10_years', '3_years', '4_years', '6_years', '7_years', '8_years', '2_years', '5_years', '9_years', '_1_year', '1_year', 'N_A'], 'fico_range_high': ['_663_814_710_5_', '_710_5_757_0_', '_803_5_850_0_', '_757_0_803_5_'], 'grade': ['C', 'B', 'F', 'A', 'E', 'D', 'G'], 'home_ownership': ['MORTGAGE', 'RENT', 'OWN', 'ANY', 'NONE'], 'initial_list_status': ['w', 'f'], 'inq_last_6mths': ['0_0', '3_0', '2_0', '1_0'], 'mths_since_recent_inq': ['0_0', '1_0', 'N_A', '2_0', '3_0'], 'installment': ['_5_898_435_665_', '_435_665_863_72_', '_863_72_1291_775_', '_1291_775_1719_83_'], 'verification_status': ['Not_Verified', 'Source_Verified', 'Verified'], 'int_rate': ['_11_73_18_15_', '_5_284_11_73_', '_18_15_24_57_', '_24_57_30_99_'], 'last_credit_pull_d': ['2019_0', '2018_0', '2017_0', '2016_0', '2015_0', 'N_A'], 'last_fico_range_high': ['_425_0_637_5_', '_637_5_850_0_', '_0_85_212_5_'], 'last_pymnt_amnt': ['0_0', '1_0', '2_0', '3_0'], 'max_bal_bc': ['0_0', '1_0', '2_0', '3_0'], 'revol_bal': ['0_0', '1_0', '2_0', '3_0'], 'mo_sin_old_il_acct': ['0_0', '1_0', 'N_A', '2_0', '3_0'], 'total_rev_hi_lim': ['0_0', '2_0', '1_0', '3_0'], 'mort_acc': ['0_0', '1_0', '2_0', '3_0'], 'total_acc': ['0_0', '2_0', '1_0', '3_0'], 'num_actv_bc_tl': ['0_0', '1_0', '2_0', '3_0'], 'num_bc_sats': ['0_0', '1_0', '2_0', '3_0'], 'num_actv_rev_tl': ['0_0', '1_0', '2_0', '3_0'], 'num_bc_tl': ['0_0', '1_0', '2_0', '3_0'], 'num_il_tl': ['0_0', '1_0', '2_0', '3_0'], 'num_op_rev_tl': ['0_0', '1_0', '2_0', '3_0'], 'num_rev_accts': ['0_0', '1_0', '2_0', '3_0'], 'num_tl_120dpd_2m': ['0_0', 'N_A', '1_0', '2_0', '3_0'], 'open_acc_6m': ['0_0', '1_0', '2_0', '3_0'], 'open_act_il': ['0_0', '1_0', '2_0', '3_0'], 'open_il_12m': ['0_0', '1_0', '2_0', '3_0'], 'open_il_24m': ['0_0', '1_0', '2_0', '3_0'], 'open_rv_12m': ['0_0', '1_0', '2_0', '3_0'], 'open_rv_24m': ['0_0', '1_0', '2_0', '3_0'], 'purpose': ['debt_consolidation', 'small_business', 'home_improvement', 'major_purchase', 'credit_card', 'other', 'house', 'vacation', 'car', 'medical', 'moving', 'renewable_energy', 'wedding'], 'recoveries': ['0_0', '1_0', '2_0', '3_0'], 'total_cu_tl': ['0_0', '1_0', '2_0', '3_0'], 'total_pymnt': ['0_0', '1_0', '2_0', '3_0'], 'total_rec_int': ['0_0', '1_0', '2_0', '3_0']}\n"
     ]
    }
   ],
   "source": [
    "reader = XMLBIFReader(\"../BIC_saved_model.xml\")\n",
    "model = reader.get_model()\n",
    "print(model.states)"
   ]
  },
  {
   "cell_type": "code",
   "execution_count": 3,
   "metadata": {},
   "outputs": [
    {
     "name": "stderr",
     "output_type": "stream",
     "text": [
      "c:\\Users\\zachs\\Documents\\CSHons\\ResearchReport\\Research_Code\\Honours-Research\\HonoursResearch\\Lib\\site-packages\\sklearn\\preprocessing\\_discretization.py:263: UserWarning: Feature 0 is constant and will be replaced with 0.\n",
      "  warnings.warn(\n",
      "c:\\Users\\zachs\\Documents\\CSHons\\ResearchReport\\Research_Code\\Honours-Research\\HonoursResearch\\Lib\\site-packages\\sklearn\\preprocessing\\_discretization.py:263: UserWarning: Feature 0 is constant and will be replaced with 0.\n",
      "  warnings.warn(\n"
     ]
    },
    {
     "name": "stdout",
     "output_type": "stream",
     "text": [
      "#############\n",
      "Data loaded\n",
      "#############\n",
      "\n"
     ]
    }
   ],
   "source": [
    "loaded_data: pd.DataFrame = DataPreprocessing.load_data()\n",
    "data: pd.DataFrame = DataPreprocessing.preprocess_data(loaded_data)\n",
    "feature_states = DataPreprocessing.get_feature_states(data)\n",
    "train_data: pd.DataFrame\n",
    "test_data: pd.DataFrame\n",
    "#print(feature_states)\n",
    "\n",
    "print(\"#############\")\n",
    "print(\"Data loaded\")\n",
    "print(\"#############\\n\")\n",
    "\n",
    "def return_evidence_features(list_description: str, inc_loan_amnt: bool):\n",
    "\n",
    "    very_basic_evidence_features = [\"annual_inc\",\"emp_length\", \"grade\", \"verification_status\",\"fico_range_high\",\"purpose\",\"dti\", \"home_ownership\", \"tot_cur_bal\", \"pub_rec_bankruptcies\"]\n",
    "    basic_evidence_features = [\"annual_inc\", \"emp_length\", \"grade\", \"home_ownership\", \"verification_status\", \"last_fico_range_high\", \"fico_range_high\", \"purpose\", \"dti\", \"application_type\", \"delinq_2yrs\", \"avg_cur_bal\", \"tot_cur_bal\", \"pub_rec_bankruptcies\", \"mort_acc\", \"num_il_tl\", \"num_rev_accts\", \"total_bal_ex_mort\"]\n",
    "    more_detailed_evidence_features = [\"annual_inc\", \"emp_length\", \"grade\", \"home_ownership\", \"verification_status\", \"last_fico_range_high\", \"fico_range_high\", \"purpose\", \"dti\", \"application_type\", \"delinq_2yrs\", \"avg_cur_bal\", \"tot_cur_bal\", \"pub_rec_bankruptcies\", \"mort_acc\", \"num_il_tl\", \"num_rev_accts\", \"total_bal_ex_mort\", \"revol_bal\", \"num_actv_rev_tl\",\"num_op_rev_tl\",\"max_bal_bc\",\"total_rev_hi_lim\",\"total_bal_il\",\"open_acc\",\"total_acc\",\"tax_liens\",\"pub_rec\",\"num_bc_tl\",\"earliest_cr_line\",\"pct_tl_nvr_dlq\",\"acc_now_delinq\"]\n",
    "    advanced_evidence_features =  [\"annual_inc\", \"emp_length\", \"grade\", \"home_ownership\", \"verification_status\", \"last_fico_range_high\", \"fico_range_high\", \"purpose\", \"dti\", \"application_type\", \"delinq_2yrs\", \"avg_cur_bal\", \"tot_cur_bal\", \"pub_rec_bankruptcies\", \"mort_acc\", \"num_il_tl\", \"num_rev_accts\", \"total_bal_ex_mort\", \"revol_bal\", \"num_actv_rev_tl\",\"num_op_rev_tl\",\"max_bal_bc\",\"total_rev_hi_lim\",\"total_bal_il\",\"open_acc\",\"total_acc\",\"tax_liens\",\"pub_rec\",\"num_bc_tl\",\"earliest_cr_line\",\"pct_tl_nvr_dlq\",\"acc_now_delinq\",\"revol_util\",\"all_util\",\"bc_util\",\"total_cu_tl\",\"total_bc_limit\",\"num_actv_bc_tl\",\"num_bc_sats\",\"percent_bc_gt_75\",\"num_tl_30dpd\",\"num_tl_90g_dpd_24m\",\"num_tl_120dpd_2m\",\"num_accts_ever_120_pd\"]\n",
    "    all_customer_info_evidence_features =  [\"annual_inc\", \"emp_length\", \"grade\", \"home_ownership\", \"verification_status\", \"last_fico_range_high\", \"fico_range_high\", \"purpose\", \"dti\", \"application_type\", \"delinq_2yrs\", \"avg_cur_bal\", \"tot_cur_bal\", \"pub_rec_bankruptcies\", \"mort_acc\", \"num_il_tl\", \"num_rev_accts\", \"total_bal_ex_mort\", \"revol_bal\", \"num_actv_rev_tl\",\"num_op_rev_tl\",\"max_bal_bc\",\"total_rev_hi_lim\",\"total_bal_il\",\"open_acc\",\"total_acc\",\"tax_liens\",\"pub_rec\",\"num_bc_tl\",\"earliest_cr_line\",\"pct_tl_nvr_dlq\",\"acc_now_delinq\",\"revol_util\",\"all_util\",\"bc_util\",\"total_cu_tl\",\"total_bc_limit\",\"num_actv_bc_tl\",\"num_bc_sats\",\"percent_bc_gt_75\",\"num_tl_30dpd\",\"num_tl_90g_dpd_24m\",\"num_tl_120dpd_2m\",\"num_accts_ever_120_pd\",\"open_il_12m\",\"open_il_24m\",\"num_tl_op_past_12m\",\"open_acc_6m\",\"acc_open_past_24mths\",\"open_rv_12m\",\"open_rv_24m\",\"mo_sin_rcnt_tl\",\"mths_since_recent_bc\",\"mo_sin_rcnt_rev_tl_op\",\"mo_sin_old_rev_tl_op\",\"mo_sin_old_il_acct\",\"mths_since_recent_inq\",\"inq_fi\",\"inq_last_6mths\",\"inq_last_12m\",\"bc_open_to_buy\"]\n",
    "    \n",
    "    evidence_features = []\n",
    "    \n",
    "    if list_description == \"very basic\":\n",
    "        evidence_features = very_basic_evidence_features\n",
    "    elif list_description == \"basic\":\n",
    "        evidence_features = basic_evidence_features\n",
    "    elif list_description == \"detailed\":\n",
    "        evidence_features = more_detailed_evidence_features\n",
    "    elif list_description == \"advanced\":\n",
    "        evidence_features = advanced_evidence_features\n",
    "    elif list_description == \"all info\":\n",
    "        evidence_features = all_customer_info_evidence_features\n",
    "\n",
    "    # this will result in the loan amount being the original loan amount for each data point\n",
    "    if inc_loan_amnt == True:\n",
    "        evidence_features.append('loan_amnt')\n",
    "   \n",
    "    return evidence_features\n",
    " \n",
    " \n",
    "def return_target_features(inc_loan_amnt: bool, add_targets: str| list | None = None):\n",
    "    loan_structure_target_list = [\"int_rate\",\"term\",\"installment\"] \n",
    "    \n",
    "    # this will result in the model predicting the most likely loan amount for the borrower\n",
    "    if inc_loan_amnt == True:\n",
    "        loan_structure_target_list.append('loan_amnt')\n",
    "\n",
    "    if add_targets != None:\n",
    "        if type(add_targets) == list:\n",
    "            loan_structure_target_list.extend(add_targets)\n",
    "        elif type(add_targets) == str:\n",
    "            loan_structure_target_list.append(add_targets)\n",
    "        \n",
    "    return loan_structure_target_list\n",
    "\n",
    "\n",
    "evidence_features = return_evidence_features(list_description=\"very basic\", inc_loan_amnt=False)\n",
    "target_features = return_target_features(inc_loan_amnt=True)"
   ]
  },
  {
   "cell_type": "code",
   "execution_count": 30,
   "metadata": {},
   "outputs": [
    {
     "name": "stdout",
     "output_type": "stream",
     "text": [
      "{'acc_open_past_24mths': ['0_0', '1_0', '2_0', '3_0'], 'num_tl_op_past_12m': ['0_0', '1_0', '2_0', '3_0'], 'open_acc': ['0_0', '1_0', '2_0', '3_0'], 'all_util': ['0_0', '2_0', '1_0', '3_0'], 'revol_util': ['1_0', '0_0', '2_0', '3_0', 'N_A'], 'total_bal_il': ['0_0', '1_0', '2_0', '3_0'], 'annual_inc': ['0_0', '1_0', '2_0', '3_0'], 'loan_amnt': ['_961_0_10750_0_', '_20500_0_30250_0_', '_10750_0_20500_0_', '_30250_0_40000_0_'], 'tot_cur_bal': ['1_0', '2_0', '0_0', '3_0'], 'application_type': ['Individual', 'Joint_App'], 'issue_d': ['2015', '2018', '2017', '2016'], 'term': ['_36_months', '_60_months'], 'avg_cur_bal': ['1_0', '0_0', '2_0', '3_0'], 'total_bal_ex_mort': ['0_0', '1_0', '2_0', '3_0'], 'bc_open_to_buy': ['0_0', '2_0', '1_0', '3_0'], 'total_bc_limit': ['0_0', '2_0', '1_0', '3_0'], 'bc_util': ['0_0', '1_0', 'N_A', '2_0', '3_0'], 'percent_bc_gt_75': ['0_0', '2_0', '3_0', '1_0', 'N_A'], 'debt_settlement_flag': ['N', 'Y'], 'loan_status': ['Fully_Paid', 'Charged_Off'], 'disbursement_method': ['Cash', 'DirectPay'], 'dti': ['0_0', '3_0', 'N_A', '2_0', '1_0'], 'earliest_cr_line': ['_1994_10_01_18_00_00_2015_01_01_00_00_00_', '_1974_07_02_12_00_00_1994_10_01_18_00_00_', '_1954_04_02_06_00_00_1974_07_02_12_00_00_', '_1933_12_02_09_57_36_1954_04_02_06_00_00_'], 'mo_sin_old_rev_tl_op': ['0_0', '1_0', '3_0', '2_0'], 'emp_length': ['10_years', '3_years', '4_years', '6_years', '7_years', '8_years', '2_years', '5_years', '9_years', '_1_year', '1_year', 'N_A'], 'fico_range_high': ['_663_814_710_5_', '_710_5_757_0_', '_803_5_850_0_', '_757_0_803_5_'], 'grade': ['C', 'B', 'F', 'A', 'E', 'D', 'G'], 'home_ownership': ['MORTGAGE', 'RENT', 'OWN', 'ANY', 'NONE'], 'initial_list_status': ['w', 'f'], 'inq_last_6mths': ['0_0', '3_0', '2_0', '1_0'], 'mths_since_recent_inq': ['0_0', '1_0', 'N_A', '2_0', '3_0'], 'installment': ['_5_898_435_665_', '_435_665_863_72_', '_863_72_1291_775_', '_1291_775_1719_83_'], 'verification_status': ['Not_Verified', 'Source_Verified', 'Verified'], 'int_rate': ['_11_73_18_15_', '_5_284_11_73_', '_18_15_24_57_', '_24_57_30_99_'], 'last_credit_pull_d': ['2019_0', '2018_0', '2017_0', '2016_0', '2015_0', 'N_A'], 'last_fico_range_high': ['_425_0_637_5_', '_637_5_850_0_', '_0_85_212_5_'], 'last_pymnt_amnt': ['0_0', '1_0', '2_0', '3_0'], 'max_bal_bc': ['0_0', '1_0', '2_0', '3_0'], 'revol_bal': ['0_0', '1_0', '2_0', '3_0'], 'mo_sin_old_il_acct': ['0_0', '1_0', 'N_A', '2_0', '3_0'], 'total_rev_hi_lim': ['0_0', '2_0', '1_0', '3_0'], 'mort_acc': ['0_0', '1_0', '2_0', '3_0'], 'total_acc': ['0_0', '2_0', '1_0', '3_0'], 'num_actv_bc_tl': ['0_0', '1_0', '2_0', '3_0'], 'num_bc_sats': ['0_0', '1_0', '2_0', '3_0'], 'num_actv_rev_tl': ['0_0', '1_0', '2_0', '3_0'], 'num_bc_tl': ['0_0', '1_0', '2_0', '3_0'], 'num_il_tl': ['0_0', '1_0', '2_0', '3_0'], 'num_op_rev_tl': ['0_0', '1_0', '2_0', '3_0'], 'num_rev_accts': ['0_0', '1_0', '2_0', '3_0'], 'num_tl_120dpd_2m': ['0_0', 'N_A', '1_0', '2_0', '3_0'], 'open_acc_6m': ['0_0', '1_0', '2_0', '3_0'], 'open_act_il': ['0_0', '1_0', '2_0', '3_0'], 'open_il_12m': ['0_0', '1_0', '2_0', '3_0'], 'open_il_24m': ['0_0', '1_0', '2_0', '3_0'], 'open_rv_12m': ['0_0', '1_0', '2_0', '3_0'], 'open_rv_24m': ['0_0', '1_0', '2_0', '3_0'], 'purpose': ['debt_consolidation', 'small_business', 'home_improvement', 'major_purchase', 'credit_card', 'other', 'house', 'vacation', 'car', 'medical', 'moving', 'renewable_energy', 'wedding'], 'recoveries': ['0_0', '1_0', '2_0', '3_0'], 'total_cu_tl': ['0_0', '1_0', '2_0', '3_0'], 'total_pymnt': ['0_0', '1_0', '2_0', '3_0'], 'total_rec_int': ['0_0', '1_0', '2_0', '3_0']}\n",
      "Performing Variable Elimination...\n"
     ]
    },
    {
     "name": "stderr",
     "output_type": "stream",
     "text": [
      "100%|██████████| 1/1 [00:00<00:00, 135.90it/s]"
     ]
    },
    {
     "name": "stdout",
     "output_type": "stream",
     "text": [
      "[{'term': '_36_months', 'installment': '_5_898_435_665_', 'loan_amnt': '_961_0_10750_0_', 'int_rate': '_11_73_18_15_'}]\n",
      "Time Taken:0.018639600006281398\n"
     ]
    },
    {
     "name": "stderr",
     "output_type": "stream",
     "text": [
      "\n"
     ]
    }
   ],
   "source": [
    "import timeit\n",
    "import numpy as np\n",
    "\n",
    "BIC_BN = BICBayesianNetwork(model = model)\n",
    "\n",
    "evidence_very_basic_features = [\"annual_inc\",\"emp_length\", \"grade\", \"verification_status\",\"fico_range_high\",\"purpose\",\"dti\", \"home_ownership\", \"tot_cur_bal\", \"pub_rec_bankruptcies\"]\n",
    "  \n",
    "print(BIC_BN.model.states)\n",
    "  \n",
    "  \n",
    "single_borrower_evidence = {}\n",
    "for feature in  evidence_very_basic_features:\n",
    "    if feature not in BIC_BN.model.states: \n",
    "        continue\n",
    "    single_borrower_evidence.update({feature: np.random.choice(BIC_BN.model.states[feature])})\n",
    "\n",
    "start_time = timeit.default_timer()\n",
    "prediction = BIC_BN.inference(\"assignment\", mode=\"single\", evidence=single_borrower_evidence)\n",
    "print(prediction)\n",
    "end_time = timeit.default_timer()\n",
    "\n",
    "\n",
    "print(\"Time Taken:\"+str((end_time-start_time)))"
   ]
  }
 ],
 "metadata": {
  "kernelspec": {
   "display_name": "HonoursResearch",
   "language": "python",
   "name": "python3"
  },
  "language_info": {
   "codemirror_mode": {
    "name": "ipython",
    "version": 3
   },
   "file_extension": ".py",
   "mimetype": "text/x-python",
   "name": "python",
   "nbconvert_exporter": "python",
   "pygments_lexer": "ipython3",
   "version": "3.11.9"
  }
 },
 "nbformat": 4,
 "nbformat_minor": 2
}
